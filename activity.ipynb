import pandas as pd
import matplotlib
import matplotlib.pyplot as plt
import seaborn as sns

matplotlib.use('TkAgg')

data = pd.read_csv('ABC.csv')
data.tail()