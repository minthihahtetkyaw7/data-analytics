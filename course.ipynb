{
 "cells": [
  {
   "cell_type": "markdown",
   "source": [
    "Importing dependencies"
   ],
   "metadata": {
    "collapsed": false
   }
  },
  {
   "cell_type": "code",
   "execution_count": 1,
   "metadata": {
    "ExecuteTime": {
     "end_time": "2023-11-11T10:51:34.341726Z",
     "start_time": "2023-11-11T10:51:31.740685Z"
    }
   },
   "outputs": [],
   "source": [
    "import pandas as pd\n",
    "import matplotlib\n",
    "import matplotlib.pyplot as plt\n",
    "import seaborn as sns\n",
    "from ydata_profiling import ProfileReport\n",
    "from scipy import stats\n",
    "\n",
    "matplotlib.use('TkAgg')\n",
    "\n",
    "data = pd.read_csv('cardio_data_processed.csv')\n"
   ]
  },
  {
   "cell_type": "markdown",
   "source": [
    "Generating Pandas Data profile"
   ],
   "metadata": {
    "collapsed": false
   }
  },
  {
   "cell_type": "code",
   "execution_count": null,
   "metadata": {},
   "outputs": [],
   "source": [
    "profile = ProfileReport(data)\n",
    "profile.to_file('activity.html')\n"
   ]
  },
  {
   "cell_type": "code",
   "execution_count": null,
   "metadata": {},
   "outputs": [],
   "source": [
    "filteredWeight = data.query(\"weight <= 35 & bp_category == 'Normal'\")\n",
    "filteredWeight[ ['id','age','height','weight','bmi','bp_category'] ]\n"
   ]
  },
  {
   "cell_type": "code",
   "execution_count": 2,
   "metadata": {
    "ExecuteTime": {
     "end_time": "2023-11-11T10:51:50.445597Z",
     "start_time": "2023-11-11T10:51:50.407713Z"
    }
   },
   "outputs": [
    {
     "name": "stderr",
     "output_type": "stream",
     "text": [
      "/var/folders/0s/qnmszg1511990vtvvdql33b40000gn/T/ipykernel_78636/254129583.py:2: SettingWithCopyWarning: \n",
      "A value is trying to be set on a copy of a slice from a DataFrame.\n",
      "Try using .loc[row_indexer,col_indexer] = value instead\n",
      "\n",
      "See the caveats in the documentation: https://pandas.pydata.org/pandas-docs/stable/user_guide/indexing.html#returning-a-view-versus-a-copy\n",
      "  newData['New_BMI'] = newData['weight'] / ((newData['height']/100) ** 2)\n"
     ]
    },
    {
     "data": {
      "text/plain": "          id    age  gender  height  weight  ap_hi  ap_lo  cholesterol  gluc  \\\n0          0  18393       2     168    62.0    110     80            1     1   \n1          1  20228       1     156    85.0    140     90            3     1   \n2          2  18857       1     165    64.0    130     70            3     1   \n3          3  17623       2     169    82.0    150    100            1     1   \n4          4  17474       1     156    56.0    100     60            1     1   \n...      ...    ...     ...     ...     ...    ...    ...          ...   ...   \n68200  99993  19240       2     168    76.0    120     80            1     1   \n68201  99995  22601       1     158   126.0    140     90            2     2   \n68202  99996  19066       2     183   105.0    180     90            3     1   \n68203  99998  22431       1     163    72.0    135     80            1     2   \n68204  99999  20540       1     170    72.0    120     80            2     1   \n\n       smoke  alco  active  cardio  age_years        bmi  \\\n0          0     0       1       0         50  21.967120   \n1          0     0       1       1         55  34.927679   \n2          0     0       0       1         51  23.507805   \n3          0     0       1       1         48  28.710479   \n4          0     0       0       0         47  23.011177   \n...      ...   ...     ...     ...        ...        ...   \n68200      1     0       1       0         52  26.927438   \n68201      0     0       1       1         61  50.472681   \n68202      0     1       0       1         52  31.353579   \n68203      0     0       0       1         61  27.099251   \n68204      0     0       1       0         56  24.913495   \n\n                bp_category   bp_category_encoded    New_BMI  \n0      Hypertension Stage 1  Hypertension Stage 1  21.967120  \n1      Hypertension Stage 2  Hypertension Stage 2  34.927679  \n2      Hypertension Stage 1  Hypertension Stage 1  23.507805  \n3      Hypertension Stage 2  Hypertension Stage 2  28.710479  \n4                    Normal                Normal  23.011177  \n...                     ...                   ...        ...  \n68200  Hypertension Stage 1  Hypertension Stage 1  26.927438  \n68201  Hypertension Stage 2  Hypertension Stage 2  50.472681  \n68202  Hypertension Stage 2  Hypertension Stage 2  31.353579  \n68203  Hypertension Stage 1  Hypertension Stage 1  27.099251  \n68204  Hypertension Stage 1  Hypertension Stage 1  24.913495  \n\n[68184 rows x 18 columns]",
      "text/html": "<div>\n<style scoped>\n    .dataframe tbody tr th:only-of-type {\n        vertical-align: middle;\n    }\n\n    .dataframe tbody tr th {\n        vertical-align: top;\n    }\n\n    .dataframe thead th {\n        text-align: right;\n    }\n</style>\n<table border=\"1\" class=\"dataframe\">\n  <thead>\n    <tr style=\"text-align: right;\">\n      <th></th>\n      <th>id</th>\n      <th>age</th>\n      <th>gender</th>\n      <th>height</th>\n      <th>weight</th>\n      <th>ap_hi</th>\n      <th>ap_lo</th>\n      <th>cholesterol</th>\n      <th>gluc</th>\n      <th>smoke</th>\n      <th>alco</th>\n      <th>active</th>\n      <th>cardio</th>\n      <th>age_years</th>\n      <th>bmi</th>\n      <th>bp_category</th>\n      <th>bp_category_encoded</th>\n      <th>New_BMI</th>\n    </tr>\n  </thead>\n  <tbody>\n    <tr>\n      <th>0</th>\n      <td>0</td>\n      <td>18393</td>\n      <td>2</td>\n      <td>168</td>\n      <td>62.0</td>\n      <td>110</td>\n      <td>80</td>\n      <td>1</td>\n      <td>1</td>\n      <td>0</td>\n      <td>0</td>\n      <td>1</td>\n      <td>0</td>\n      <td>50</td>\n      <td>21.967120</td>\n      <td>Hypertension Stage 1</td>\n      <td>Hypertension Stage 1</td>\n      <td>21.967120</td>\n    </tr>\n    <tr>\n      <th>1</th>\n      <td>1</td>\n      <td>20228</td>\n      <td>1</td>\n      <td>156</td>\n      <td>85.0</td>\n      <td>140</td>\n      <td>90</td>\n      <td>3</td>\n      <td>1</td>\n      <td>0</td>\n      <td>0</td>\n      <td>1</td>\n      <td>1</td>\n      <td>55</td>\n      <td>34.927679</td>\n      <td>Hypertension Stage 2</td>\n      <td>Hypertension Stage 2</td>\n      <td>34.927679</td>\n    </tr>\n    <tr>\n      <th>2</th>\n      <td>2</td>\n      <td>18857</td>\n      <td>1</td>\n      <td>165</td>\n      <td>64.0</td>\n      <td>130</td>\n      <td>70</td>\n      <td>3</td>\n      <td>1</td>\n      <td>0</td>\n      <td>0</td>\n      <td>0</td>\n      <td>1</td>\n      <td>51</td>\n      <td>23.507805</td>\n      <td>Hypertension Stage 1</td>\n      <td>Hypertension Stage 1</td>\n      <td>23.507805</td>\n    </tr>\n    <tr>\n      <th>3</th>\n      <td>3</td>\n      <td>17623</td>\n      <td>2</td>\n      <td>169</td>\n      <td>82.0</td>\n      <td>150</td>\n      <td>100</td>\n      <td>1</td>\n      <td>1</td>\n      <td>0</td>\n      <td>0</td>\n      <td>1</td>\n      <td>1</td>\n      <td>48</td>\n      <td>28.710479</td>\n      <td>Hypertension Stage 2</td>\n      <td>Hypertension Stage 2</td>\n      <td>28.710479</td>\n    </tr>\n    <tr>\n      <th>4</th>\n      <td>4</td>\n      <td>17474</td>\n      <td>1</td>\n      <td>156</td>\n      <td>56.0</td>\n      <td>100</td>\n      <td>60</td>\n      <td>1</td>\n      <td>1</td>\n      <td>0</td>\n      <td>0</td>\n      <td>0</td>\n      <td>0</td>\n      <td>47</td>\n      <td>23.011177</td>\n      <td>Normal</td>\n      <td>Normal</td>\n      <td>23.011177</td>\n    </tr>\n    <tr>\n      <th>...</th>\n      <td>...</td>\n      <td>...</td>\n      <td>...</td>\n      <td>...</td>\n      <td>...</td>\n      <td>...</td>\n      <td>...</td>\n      <td>...</td>\n      <td>...</td>\n      <td>...</td>\n      <td>...</td>\n      <td>...</td>\n      <td>...</td>\n      <td>...</td>\n      <td>...</td>\n      <td>...</td>\n      <td>...</td>\n      <td>...</td>\n    </tr>\n    <tr>\n      <th>68200</th>\n      <td>99993</td>\n      <td>19240</td>\n      <td>2</td>\n      <td>168</td>\n      <td>76.0</td>\n      <td>120</td>\n      <td>80</td>\n      <td>1</td>\n      <td>1</td>\n      <td>1</td>\n      <td>0</td>\n      <td>1</td>\n      <td>0</td>\n      <td>52</td>\n      <td>26.927438</td>\n      <td>Hypertension Stage 1</td>\n      <td>Hypertension Stage 1</td>\n      <td>26.927438</td>\n    </tr>\n    <tr>\n      <th>68201</th>\n      <td>99995</td>\n      <td>22601</td>\n      <td>1</td>\n      <td>158</td>\n      <td>126.0</td>\n      <td>140</td>\n      <td>90</td>\n      <td>2</td>\n      <td>2</td>\n      <td>0</td>\n      <td>0</td>\n      <td>1</td>\n      <td>1</td>\n      <td>61</td>\n      <td>50.472681</td>\n      <td>Hypertension Stage 2</td>\n      <td>Hypertension Stage 2</td>\n      <td>50.472681</td>\n    </tr>\n    <tr>\n      <th>68202</th>\n      <td>99996</td>\n      <td>19066</td>\n      <td>2</td>\n      <td>183</td>\n      <td>105.0</td>\n      <td>180</td>\n      <td>90</td>\n      <td>3</td>\n      <td>1</td>\n      <td>0</td>\n      <td>1</td>\n      <td>0</td>\n      <td>1</td>\n      <td>52</td>\n      <td>31.353579</td>\n      <td>Hypertension Stage 2</td>\n      <td>Hypertension Stage 2</td>\n      <td>31.353579</td>\n    </tr>\n    <tr>\n      <th>68203</th>\n      <td>99998</td>\n      <td>22431</td>\n      <td>1</td>\n      <td>163</td>\n      <td>72.0</td>\n      <td>135</td>\n      <td>80</td>\n      <td>1</td>\n      <td>2</td>\n      <td>0</td>\n      <td>0</td>\n      <td>0</td>\n      <td>1</td>\n      <td>61</td>\n      <td>27.099251</td>\n      <td>Hypertension Stage 1</td>\n      <td>Hypertension Stage 1</td>\n      <td>27.099251</td>\n    </tr>\n    <tr>\n      <th>68204</th>\n      <td>99999</td>\n      <td>20540</td>\n      <td>1</td>\n      <td>170</td>\n      <td>72.0</td>\n      <td>120</td>\n      <td>80</td>\n      <td>2</td>\n      <td>1</td>\n      <td>0</td>\n      <td>0</td>\n      <td>1</td>\n      <td>0</td>\n      <td>56</td>\n      <td>24.913495</td>\n      <td>Hypertension Stage 1</td>\n      <td>Hypertension Stage 1</td>\n      <td>24.913495</td>\n    </tr>\n  </tbody>\n</table>\n<p>68184 rows × 18 columns</p>\n</div>"
     },
     "execution_count": 2,
     "metadata": {},
     "output_type": "execute_result"
    }
   ],
   "source": [
    "newData = data.query(\"weight >= 36\")\n",
    "newData['New_BMI'] = newData['weight'] / ((newData['height']/100) ** 2)\n",
    "newData"
   ]
  },
  {
   "cell_type": "code",
   "execution_count": null,
   "metadata": {},
   "outputs": [],
   "source": [
    "sns.histplot(newData['age_years'], bins=10, kde=True)\n",
    "plt.title('Age Distribution')\n",
    "plt.show()"
   ]
  },
  {
   "cell_type": "code",
   "execution_count": null,
   "metadata": {},
   "outputs": [],
   "source": [
    "newData.isnull().sum()\n",
    "newData.dtypes"
   ]
  },
  {
   "cell_type": "code",
   "execution_count": null,
   "metadata": {},
   "outputs": [],
   "source": [
    "duplicates = data[data.duplicated()]\n",
    "print(duplicates)\n",
    "data.shape\n",
    "data.nunique()"
   ]
  },
  {
   "cell_type": "markdown",
   "source": [
    "EDA"
   ],
   "metadata": {
    "collapsed": false
   }
  },
  {
   "cell_type": "code",
   "execution_count": null,
   "metadata": {},
   "outputs": [],
   "source": [
    "sns.countplot(x='active', hue='cardio', data=newData)\n",
    "plt.title(\"Cardiovascular Disease vs. Physical Activity\")\n",
    "plt.show()"
   ]
  },
  {
   "cell_type": "code",
   "execution_count": null,
   "metadata": {},
   "outputs": [],
   "source": [
    "sns.boxplot(x='cardio', y='bmi', data=data)\n",
    "plt.title(\"BMI vs. Cardiovascular Disease\")\n",
    "plt.show()\n"
   ]
  },
  {
   "cell_type": "code",
   "execution_count": null,
   "metadata": {},
   "outputs": [],
   "source": [
    "sns.countplot(data=data, x='cholesterol')\n",
    "plt.title(\"No of people in each Cholesterol Levels\")\n",
    "plt.xlabel('Cholesterol Levels(1:Normal, 2:Above Normal, 3:Well Above Normal)')\n",
    "plt.show()"
   ]
  },
  {
   "cell_type": "code",
   "execution_count": null,
   "outputs": [],
   "source": [
    "newData.columns"
   ],
   "metadata": {
    "collapsed": false
   }
  },
  {
   "cell_type": "code",
   "execution_count": null,
   "metadata": {},
   "outputs": [],
   "source": [
    "sns.histplot(data['age_years'], bins=28, kde=True)\n",
    "plt.xlabel('Age (years)')\n",
    "plt.title('Distribution of Age')\n",
    "plt.show()\n"
   ]
  },
  {
   "cell_type": "code",
   "execution_count": null,
   "metadata": {},
   "outputs": [],
   "source": [
    "sns.histplot(data['age_years'], bins=28)\n",
    "plt.xlabel('Age (years)')\n",
    "plt.ylabel('Frequency')\n",
    "plt.title('Age Distribution')\n",
    "plt.show()"
   ]
  },
  {
   "cell_type": "code",
   "execution_count": null,
   "metadata": {},
   "outputs": [],
   "source": [
    "gluc_counts = data['gluc'].value_counts()\n",
    "print(gluc_counts)"
   ]
  },
  {
   "cell_type": "code",
   "execution_count": null,
   "metadata": {},
   "outputs": [],
   "source": [
    "bmi_summary = data['bmi'].describe()\n",
    "print(bmi_summary)\n",
    "plt.hist(data['bmi'], bins=30)\n",
    "plt.xlabel('BMI')\n",
    "plt.ylabel('Frequency')\n",
    "plt.title('BMI Distribution')\n",
    "plt.show()"
   ]
  },
  {
   "cell_type": "code",
   "execution_count": null,
   "metadata": {},
   "outputs": [],
   "source": [
    "minimum_bmi = data['bmi'].min()\n",
    "row_with_minimum_bmi = data.loc[data['bmi'] == minimum_bmi]\n",
    "print(row_with_minimum_bmi)\n",
    "print(\"Minimum BMI:\", minimum_bmi)\n"
   ]
  },
  {
   "cell_type": "code",
   "execution_count": null,
   "metadata": {},
   "outputs": [],
   "source": [
    "newData['bmi'].describe()"
   ]
  },
  {
   "cell_type": "code",
   "execution_count": null,
   "metadata": {},
   "outputs": [],
   "source": [
    "newData['New_BMI'].describe()"
   ]
  },
  {
   "cell_type": "code",
   "execution_count": null,
   "metadata": {},
   "outputs": [],
   "source": [
    "ageDescribe = newData['age_years'].describe().round(2)\n",
    "ageMedian = newData['age_years'].median()\n",
    "print(ageDescribe)\n",
    "print(f'Median age is - {ageMedian}')"
   ]
  },
  {
   "cell_type": "code",
   "execution_count": null,
   "metadata": {},
   "outputs": [],
   "source": [
    "profile = ProfileReport(newData)\n",
    "profile.to_file('cardio_disease.html')"
   ]
  },
  {
   "cell_type": "code",
   "execution_count": null,
   "metadata": {},
   "outputs": [],
   "source": [
    "sns.countplot(data=newData, x='age_years', hue='cardio', palette=\"Set2\")\n",
    "plt.xlabel('Age (years)')\n",
    "plt.ylabel('Count')\n",
    "plt.title('Age vs Cardiovascular Disease')\n",
    "plt.legend(title='Cardio', labels=['No', 'Yes'])\n",
    "plt.show()"
   ]
  },
  {
   "cell_type": "code",
   "execution_count": null,
   "metadata": {},
   "outputs": [],
   "source": [
    "sns.histplot(newData['New_BMI'], kde=True ,bins=200, color='green', alpha=0.7)\n",
    "plt.xlabel('BMI')\n",
    "plt.ylabel('Frequency')\n",
    "plt.title('BMI Distribution')\n",
    "\n",
    "plt.show()"
   ]
  },
  {
   "cell_type": "code",
   "execution_count": null,
   "metadata": {},
   "outputs": [],
   "source": [
    "plt.figure(figsize=(8, 6))\n",
    "sns.boxplot(x='cardio', y='New_BMI', data=newData, palette=\"Set1\")\n",
    "plt.xlabel('Cardiovascular Disease (0: No, 1: Yes)')\n",
    "plt.ylabel('BMI')\n",
    "plt.title('BMI vs Cardiovascular Disease (Box Plot)')\n",
    "plt.show()"
   ]
  },
  {
   "cell_type": "code",
   "execution_count": null,
   "metadata": {},
   "outputs": [],
   "source": [
    "plt.figure(figsize=(10, 6))\n",
    "ax = sns.countplot(data=newData, x='bp_category', hue='cardio', palette=\"Set1\")\n",
    "plt.xlabel('Blood Pressure Category')\n",
    "plt.ylabel('Count')\n",
    "plt.title('Blood Pressure Category vs Cardiovascular Disease')\n",
    "plt.legend(title='Cardio', labels=['No', 'Yes'])\n",
    "# Add data labels on each bar\n",
    "for p in ax.patches:\n",
    "    ax.annotate(f'{p.get_height()}', (p.get_x() + p.get_width() / 2., p.get_height()), ha='center', va='center', fontsize=10, color='black', xytext=(0, 5), textcoords='offset points')\n",
    "\n",
    "\n",
    "plt.show()"
   ]
  },
  {
   "cell_type": "code",
   "execution_count": null,
   "outputs": [],
   "source": [
    "corr_matrix = newData[ ['id', 'age', 'gender', 'height', 'weight', 'ap_hi', 'ap_lo',\n",
    "       'cholesterol', 'gluc', 'smoke', 'alco', 'active', 'cardio', 'age_years', 'New_BMI'] ].corr()\n",
    "# high_correlation = corr_matrix[(corr_matrix > 0.4)]\n",
    "# mask = high_correlation.isnull()\n",
    "\n",
    "plt.figure(figsize=(12, 10))\n",
    "sns.heatmap(corr_matrix, annot=True, cmap=\"coolwarm\", fmt=\".2f\", linewidths=.5)\n",
    "plt.title(\"Correlation Heatmap\")\n",
    "plt.show()"
   ],
   "metadata": {
    "collapsed": false
   }
  },
  {
   "cell_type": "markdown",
   "source": [
    "Import Scikit Learn"
   ],
   "metadata": {
    "collapsed": false
   }
  },
  {
   "cell_type": "code",
   "execution_count": 4,
   "outputs": [
    {
     "name": "stderr",
     "output_type": "stream",
     "text": [
      "/var/folders/0s/qnmszg1511990vtvvdql33b40000gn/T/ipykernel_54916/264184286.py:3: SettingWithCopyWarning: \n",
      "A value is trying to be set on a copy of a slice from a DataFrame.\n",
      "Try using .loc[row_indexer,col_indexer] = value instead\n",
      "\n",
      "See the caveats in the documentation: https://pandas.pydata.org/pandas-docs/stable/user_guide/indexing.html#returning-a-view-versus-a-copy\n",
      "  newData['bp_category'] = le.fit_transform(newData['bp_category'])\n"
     ]
    },
    {
     "data": {
      "text/plain": "   id  bp_category\n0   0            1\n1   1            2\n2   2            1\n3   3            2\n4   4            3",
      "text/html": "<div>\n<style scoped>\n    .dataframe tbody tr th:only-of-type {\n        vertical-align: middle;\n    }\n\n    .dataframe tbody tr th {\n        vertical-align: top;\n    }\n\n    .dataframe thead th {\n        text-align: right;\n    }\n</style>\n<table border=\"1\" class=\"dataframe\">\n  <thead>\n    <tr style=\"text-align: right;\">\n      <th></th>\n      <th>id</th>\n      <th>bp_category</th>\n    </tr>\n  </thead>\n  <tbody>\n    <tr>\n      <th>0</th>\n      <td>0</td>\n      <td>1</td>\n    </tr>\n    <tr>\n      <th>1</th>\n      <td>1</td>\n      <td>2</td>\n    </tr>\n    <tr>\n      <th>2</th>\n      <td>2</td>\n      <td>1</td>\n    </tr>\n    <tr>\n      <th>3</th>\n      <td>3</td>\n      <td>2</td>\n    </tr>\n    <tr>\n      <th>4</th>\n      <td>4</td>\n      <td>3</td>\n    </tr>\n  </tbody>\n</table>\n</div>"
     },
     "execution_count": 4,
     "metadata": {},
     "output_type": "execute_result"
    }
   ],
   "source": [
    "from sklearn.preprocessing import LabelEncoder\n",
    "le = LabelEncoder()\n",
    "newData['bp_category'] = le.fit_transform(newData['bp_category'])\n",
    "newData[ ['id','bp_category'] ].head()"
   ],
   "metadata": {
    "collapsed": false,
    "ExecuteTime": {
     "end_time": "2023-11-07T09:24:16.440141Z",
     "start_time": "2023-11-07T09:24:16.427519Z"
    }
   }
  },
  {
   "cell_type": "code",
   "execution_count": 5,
   "outputs": [
    {
     "data": {
      "text/plain": "                 id           age        gender        height        weight  \\\ncount  40910.000000  40910.000000  40910.000000  40910.000000  40910.000000   \nmean   49889.962845  19472.085651      1.351454    164.366927     74.127267   \nstd    28878.682184   2468.015746      0.477430      8.199651     14.313681   \nmin        2.000000  10798.000000      1.000000     55.000000     36.000000   \n25%    24896.250000  17649.250000      1.000000    159.000000     65.000000   \n50%    49817.500000  19707.500000      1.000000    165.000000     72.000000   \n75%    74828.750000  21332.000000      2.000000    170.000000     82.000000   \nmax    99999.000000  23701.000000      2.000000    250.000000    200.000000   \n\n              ap_hi         ap_lo   cholesterol          gluc         smoke  \\\ncount  40910.000000  40910.000000  40910.000000  40910.000000  40910.000000   \nmean     126.465705     81.258054      1.360059      1.224859      0.087485   \nstd       15.980294      9.169405      0.676251      0.571182      0.282548   \nmin       90.000000     60.000000      1.000000      1.000000      0.000000   \n25%      120.000000     80.000000      1.000000      1.000000      0.000000   \n50%      120.000000     80.000000      1.000000      1.000000      0.000000   \n75%      140.000000     90.000000      1.000000      1.000000      0.000000   \nmax      180.000000    120.000000      3.000000      3.000000      1.000000   \n\n               alco        active        cardio     age_years           bmi  \\\ncount  40910.000000  40910.000000  40910.000000  40910.000000  40910.000000   \nmean       0.052481      0.804033      0.490907     52.848717     27.526469   \nstd        0.222998      0.396948      0.499923      6.769756      6.117177   \nmin        0.000000      0.000000      0.000000     29.000000     13.760000   \n25%        0.000000      1.000000      0.000000     48.000000     23.875115   \n50%        0.000000      1.000000      0.000000     53.000000     26.298488   \n75%        0.000000      1.000000      1.000000     58.000000     30.119376   \nmax        1.000000      1.000000      1.000000     64.000000    278.125000   \n\n        bp_category       New_BMI  \ncount  40910.000000  40910.000000  \nmean       1.460694     27.526469  \nstd        0.785236      6.117177  \nmin        0.000000     13.760000  \n25%        1.000000     23.875115  \n50%        1.000000     26.298488  \n75%        2.000000     30.119376  \nmax        3.000000    278.125000  ",
      "text/html": "<div>\n<style scoped>\n    .dataframe tbody tr th:only-of-type {\n        vertical-align: middle;\n    }\n\n    .dataframe tbody tr th {\n        vertical-align: top;\n    }\n\n    .dataframe thead th {\n        text-align: right;\n    }\n</style>\n<table border=\"1\" class=\"dataframe\">\n  <thead>\n    <tr style=\"text-align: right;\">\n      <th></th>\n      <th>id</th>\n      <th>age</th>\n      <th>gender</th>\n      <th>height</th>\n      <th>weight</th>\n      <th>ap_hi</th>\n      <th>ap_lo</th>\n      <th>cholesterol</th>\n      <th>gluc</th>\n      <th>smoke</th>\n      <th>alco</th>\n      <th>active</th>\n      <th>cardio</th>\n      <th>age_years</th>\n      <th>bmi</th>\n      <th>bp_category</th>\n      <th>New_BMI</th>\n    </tr>\n  </thead>\n  <tbody>\n    <tr>\n      <th>count</th>\n      <td>40910.000000</td>\n      <td>40910.000000</td>\n      <td>40910.000000</td>\n      <td>40910.000000</td>\n      <td>40910.000000</td>\n      <td>40910.000000</td>\n      <td>40910.000000</td>\n      <td>40910.000000</td>\n      <td>40910.000000</td>\n      <td>40910.000000</td>\n      <td>40910.000000</td>\n      <td>40910.000000</td>\n      <td>40910.000000</td>\n      <td>40910.000000</td>\n      <td>40910.000000</td>\n      <td>40910.000000</td>\n      <td>40910.000000</td>\n    </tr>\n    <tr>\n      <th>mean</th>\n      <td>49889.962845</td>\n      <td>19472.085651</td>\n      <td>1.351454</td>\n      <td>164.366927</td>\n      <td>74.127267</td>\n      <td>126.465705</td>\n      <td>81.258054</td>\n      <td>1.360059</td>\n      <td>1.224859</td>\n      <td>0.087485</td>\n      <td>0.052481</td>\n      <td>0.804033</td>\n      <td>0.490907</td>\n      <td>52.848717</td>\n      <td>27.526469</td>\n      <td>1.460694</td>\n      <td>27.526469</td>\n    </tr>\n    <tr>\n      <th>std</th>\n      <td>28878.682184</td>\n      <td>2468.015746</td>\n      <td>0.477430</td>\n      <td>8.199651</td>\n      <td>14.313681</td>\n      <td>15.980294</td>\n      <td>9.169405</td>\n      <td>0.676251</td>\n      <td>0.571182</td>\n      <td>0.282548</td>\n      <td>0.222998</td>\n      <td>0.396948</td>\n      <td>0.499923</td>\n      <td>6.769756</td>\n      <td>6.117177</td>\n      <td>0.785236</td>\n      <td>6.117177</td>\n    </tr>\n    <tr>\n      <th>min</th>\n      <td>2.000000</td>\n      <td>10798.000000</td>\n      <td>1.000000</td>\n      <td>55.000000</td>\n      <td>36.000000</td>\n      <td>90.000000</td>\n      <td>60.000000</td>\n      <td>1.000000</td>\n      <td>1.000000</td>\n      <td>0.000000</td>\n      <td>0.000000</td>\n      <td>0.000000</td>\n      <td>0.000000</td>\n      <td>29.000000</td>\n      <td>13.760000</td>\n      <td>0.000000</td>\n      <td>13.760000</td>\n    </tr>\n    <tr>\n      <th>25%</th>\n      <td>24896.250000</td>\n      <td>17649.250000</td>\n      <td>1.000000</td>\n      <td>159.000000</td>\n      <td>65.000000</td>\n      <td>120.000000</td>\n      <td>80.000000</td>\n      <td>1.000000</td>\n      <td>1.000000</td>\n      <td>0.000000</td>\n      <td>0.000000</td>\n      <td>1.000000</td>\n      <td>0.000000</td>\n      <td>48.000000</td>\n      <td>23.875115</td>\n      <td>1.000000</td>\n      <td>23.875115</td>\n    </tr>\n    <tr>\n      <th>50%</th>\n      <td>49817.500000</td>\n      <td>19707.500000</td>\n      <td>1.000000</td>\n      <td>165.000000</td>\n      <td>72.000000</td>\n      <td>120.000000</td>\n      <td>80.000000</td>\n      <td>1.000000</td>\n      <td>1.000000</td>\n      <td>0.000000</td>\n      <td>0.000000</td>\n      <td>1.000000</td>\n      <td>0.000000</td>\n      <td>53.000000</td>\n      <td>26.298488</td>\n      <td>1.000000</td>\n      <td>26.298488</td>\n    </tr>\n    <tr>\n      <th>75%</th>\n      <td>74828.750000</td>\n      <td>21332.000000</td>\n      <td>2.000000</td>\n      <td>170.000000</td>\n      <td>82.000000</td>\n      <td>140.000000</td>\n      <td>90.000000</td>\n      <td>1.000000</td>\n      <td>1.000000</td>\n      <td>0.000000</td>\n      <td>0.000000</td>\n      <td>1.000000</td>\n      <td>1.000000</td>\n      <td>58.000000</td>\n      <td>30.119376</td>\n      <td>2.000000</td>\n      <td>30.119376</td>\n    </tr>\n    <tr>\n      <th>max</th>\n      <td>99999.000000</td>\n      <td>23701.000000</td>\n      <td>2.000000</td>\n      <td>250.000000</td>\n      <td>200.000000</td>\n      <td>180.000000</td>\n      <td>120.000000</td>\n      <td>3.000000</td>\n      <td>3.000000</td>\n      <td>1.000000</td>\n      <td>1.000000</td>\n      <td>1.000000</td>\n      <td>1.000000</td>\n      <td>64.000000</td>\n      <td>278.125000</td>\n      <td>3.000000</td>\n      <td>278.125000</td>\n    </tr>\n  </tbody>\n</table>\n</div>"
     },
     "execution_count": 5,
     "metadata": {},
     "output_type": "execute_result"
    }
   ],
   "source": [
    "sampled_data = newData.sample(frac=0.6, random_state=1)\n",
    "sampled_data.describe()"
   ],
   "metadata": {
    "collapsed": false,
    "ExecuteTime": {
     "end_time": "2023-11-07T09:24:25.936848Z",
     "start_time": "2023-11-07T09:24:25.876938Z"
    }
   }
  },
  {
   "cell_type": "code",
   "execution_count": null,
   "outputs": [],
   "source": [
    "from scipy.stats import pearsonr\n",
    "corr_matrix = sampled_data[ ['age', 'gender', 'height', 'weight', 'ap_hi', 'ap_lo',\n",
    "       'cholesterol', 'gluc', 'smoke', 'alco', 'active', 'cardio', 'age_years', 'bp_category', 'New_BMI'] ].corr()\n",
    "# high_correlation = corr_matrix[(corr_matrix > 0.4)]\n",
    "# mask = high_correlation.isnull()\n",
    "\n",
    "# plt.figure(figsize=(12, 10))\n",
    "# sns.heatmap(corr_matrix, annot=True, cmap=\"coolwarm\", fmt=\".2f\", linewidths=1)\n",
    "# plt.title(\"Correlation Matrix\")\n",
    "# plt.xticks(rotation=45)\n",
    "# plt.show()"
   ],
   "metadata": {
    "collapsed": false
   }
  },
  {
   "cell_type": "code",
   "execution_count": null,
   "outputs": [],
   "source": [
    "sns.histplot(sampled_data['cholesterol'], kde=True ,bins=40, color='green', alpha=0.7)\n",
    "plt.xlabel('BMI')\n",
    "plt.ylabel('Frequency')\n",
    "plt.title('BMI Distribution')\n",
    "\n",
    "plt.show()"
   ],
   "metadata": {
    "collapsed": false
   }
  },
  {
   "cell_type": "code",
   "execution_count": null,
   "outputs": [],
   "source": [
    "presenceCardio = sampled_data[ sampled_data['cardio'] == 1]\n",
    "sns.scatterplot(x='ap_lo', y='ap_hi', data=presenceCardio, hue='cardio')\n",
    "\n",
    "# Adjust labels, titles, etc.\n",
    "plt.title('Scatter plot of Cardio vs AP LO and AP HI')\n",
    "plt.xlabel('AP LO')\n",
    "plt.ylabel('AP HI')\n",
    "plt.legend(title='Cardio')\n",
    "\n",
    "# Show the plot\n",
    "plt.show()"
   ],
   "metadata": {
    "collapsed": false
   }
  },
  {
   "cell_type": "code",
   "execution_count": 13,
   "outputs": [
    {
     "ename": "AttributeError",
     "evalue": "'LinearRegression' object has no attribute 'summary'",
     "output_type": "error",
     "traceback": [
      "\u001B[0;31m---------------------------------------------------------------------------\u001B[0m",
      "\u001B[0;31mAttributeError\u001B[0m                            Traceback (most recent call last)",
      "Cell \u001B[0;32mIn[13], line 15\u001B[0m\n\u001B[1;32m     12\u001B[0m \u001B[38;5;66;03m# Fit the linear regression model\u001B[39;00m\n\u001B[1;32m     13\u001B[0m lin_reg\u001B[38;5;241m.\u001B[39mfit(X, Y)\n\u001B[0;32m---> 15\u001B[0m \u001B[38;5;28mprint\u001B[39m(lin_reg\u001B[38;5;241m.\u001B[39msummary())\n\u001B[1;32m     16\u001B[0m \u001B[38;5;66;03m# Get coefficients and intercept\u001B[39;00m\n\u001B[1;32m     17\u001B[0m coefficients \u001B[38;5;241m=\u001B[39m lin_reg\u001B[38;5;241m.\u001B[39mcoef_\n",
      "\u001B[0;31mAttributeError\u001B[0m: 'LinearRegression' object has no attribute 'summary'"
     ]
    }
   ],
   "source": [
    "from sklearn.linear_model import LinearRegression\n",
    "\n",
    "# Assuming 'df' is your DataFrame containing the dataset\n",
    "# X contains the predictors, Y is the target variable\n",
    "X = sampled_data[['ap_hi', 'ap_lo']]  # Example: Selecting 'ap_hi' and 'ap_lo' as predictors for samples where 'cardio' is 1\n",
    "Y = sampled_data['cardio']  # Target variable\n",
    "\n",
    "\n",
    "# Initialize the linear regression model\n",
    "lin_reg = LinearRegression()\n",
    "\n",
    "# Fit the linear regression model\n",
    "lin_reg.fit(X, Y)\n",
    "\n",
    "print(lin_reg.summary())\n",
    "# Get coefficients and intercept\n",
    "coefficients = lin_reg.coef_\n",
    "intercept = lin_reg.intercept_\n",
    "\n",
    "# Display results\n",
    "print(\"Coefficients:\")\n",
    "print(coefficients)\n",
    "print(\"\\nIntercept:\")\n",
    "print(intercept)\n"
   ],
   "metadata": {
    "collapsed": false,
    "ExecuteTime": {
     "end_time": "2023-11-07T09:28:02.806918Z",
     "start_time": "2023-11-07T09:28:02.770014Z"
    }
   }
  },
  {
   "cell_type": "code",
   "execution_count": null,
   "outputs": [],
   "source": [
    "# Predict the target variable using the model\n",
    "Y_pred = lin_reg.predict(X)\n",
    "\n",
    "# Create a scatter plot of the actual data\n",
    "plt.scatter(X['ap_hi'], Y, color='blue', label='ap_hi')\n",
    "plt.scatter(X['ap_lo'], Y, color='red', label='ap_lo')\n",
    "\n",
    "# Plot the linear regression line\n",
    "plt.plot(X['ap_hi'], Y_pred, color='green', linewidth=2, label='Linear Regression (ap_hi)')\n",
    "plt.plot(X['ap_lo'], Y_pred, color='orange', linewidth=2, label='Linear Regression (ap_lo)')\n",
    "\n",
    "# Set plot labels and title\n",
    "plt.xlabel('ap_hi and ap_lo')\n",
    "plt.ylabel('cardio')\n",
    "plt.title('Linear Regression Plot')\n",
    "plt.legend()\n",
    "plt.grid(True)\n",
    "plt.show()"
   ],
   "metadata": {
    "collapsed": false
   }
  },
  {
   "cell_type": "code",
   "execution_count": null,
   "outputs": [],
   "source": [
    "ap_hi_with_cardio = data[data['cardio'] == 1]['age_years']\n",
    "ap_hi_without_cardio = data[data['cardio'] == 0]['age_years']\n",
    "\n",
    "t_stat, p_value = stats.ttest_ind(ap_hi_with_cardio, ap_hi_without_cardio, equal_var=False)\n",
    "\n",
    "print(\"Independent t-test p-value:\", p_value)\n",
    "\n",
    "if p_value < 0.05:\n",
    "    print(\"Reject Null Hypothesis: There is a significant difference in mean 'ap_hi' between individuals with and without cardiovascular disease.\")\n",
    "else:\n",
    "    print(\"Fail to Reject Null Hypothesis: There is no significant difference in mean 'ap_hi' between the groups.\")"
   ],
   "metadata": {
    "collapsed": false
   }
  },
  {
   "cell_type": "code",
   "execution_count": null,
   "outputs": [],
   "source": [
    "ap_hi_cardio_1 = sampled_data[sampled_data['cardio'] == 1]['ap_hi']\n",
    "\n",
    "# Create a histogram to visualize the distribution of 'ap_hi' for Cardio=1\n",
    "plt.figure(figsize=(8, 6))\n",
    "plt.hist(ap_hi_cardio_1, bins=10, color='skyblue', edgecolor='black')\n",
    "plt.xlabel('Systolic Blood Pressure (ap_hi) - Cardio Presence')\n",
    "plt.ylabel('Frequency')\n",
    "plt.title('Distribution of Systolic Blood Pressure (ap_hi) for Cardio Presence')\n",
    "plt.show()"
   ],
   "metadata": {
    "collapsed": false
   }
  },
  {
   "cell_type": "code",
   "execution_count": 14,
   "outputs": [
    {
     "name": "stdout",
     "output_type": "stream",
     "text": [
      "Optimization terminated successfully.\n",
      "         Current function value: 0.584781\n",
      "         Iterations 6\n",
      "                           Logit Regression Results                           \n",
      "==============================================================================\n",
      "Dep. Variable:                 cardio   No. Observations:                40910\n",
      "Model:                          Logit   Df Residuals:                    40907\n",
      "Method:                           MLE   Df Model:                            2\n",
      "Date:                Tue, 07 Nov 2023   Pseudo R-squ.:                  0.1561\n",
      "Time:                        22:29:16   Log-Likelihood:                -23923.\n",
      "converged:                       True   LL-Null:                       -28350.\n",
      "Covariance Type:            nonrobust   LLR p-value:                     0.000\n",
      "==============================================================================\n",
      "                 coef    std err          z      P>|z|      [0.025      0.975]\n",
      "------------------------------------------------------------------------------\n",
      "const         -9.3335      0.126    -74.261      0.000      -9.580      -9.087\n",
      "ap_hi          0.0661      0.001     54.817      0.000       0.064       0.068\n",
      "ap_lo          0.0121      0.002      6.456      0.000       0.008       0.016\n",
      "==============================================================================\n"
     ]
    }
   ],
   "source": [
    "import statsmodels.api as sm\n",
    "X = sampled_data[['ap_hi','ap_lo']]\n",
    "Y = sampled_data['cardio']\n",
    "\n",
    "X = sm.add_constant(X)\n",
    "\n",
    "logit_model = sm.Logit(Y, X)\n",
    "logit_result = logit_model.fit()\n",
    "\n",
    "print(logit_result.summary())"
   ],
   "metadata": {
    "collapsed": false,
    "ExecuteTime": {
     "end_time": "2023-11-07T09:29:16.701324Z",
     "start_time": "2023-11-07T09:29:16.064964Z"
    }
   }
  },
  {
   "cell_type": "code",
   "execution_count": 83,
   "outputs": [
    {
     "data": {
      "text/plain": "TtestResult(statistic=-97.20505451323979, pvalue=0.0, df=36875.77636480623)"
     },
     "execution_count": 83,
     "metadata": {},
     "output_type": "execute_result"
    }
   ],
   "source": [
    "from scipy.stats import ttest_ind\n",
    "# Example: 'binary_var' is your binary variable and 'numerical_var' is your numerical variable\n",
    "group1 = sampled_data[sampled_data['cardio'] == 0]['ap_hi']\n",
    "group2 = sampled_data[sampled_data['cardio'] == 1]['ap_hi']\n",
    "\n",
    "ttest_ind(group1, group2, equal_var=False)  # Assuming unequal variance\n",
    "# print(f\"T-Statistic: {t_stat}\")\n",
    "# print(f\"P-value: {p}\")"
   ],
   "metadata": {
    "collapsed": false,
    "ExecuteTime": {
     "end_time": "2023-11-07T09:04:59.534961Z",
     "start_time": "2023-11-07T09:04:59.508242Z"
    }
   }
  },
  {
   "cell_type": "code",
   "execution_count": 15,
   "outputs": [
    {
     "name": "stdout",
     "output_type": "stream",
     "text": [
      "Optimization terminated successfully.\n",
      "         Current function value: 0.584781\n",
      "         Iterations 6\n",
      "Confusion Matrix:\n",
      "          Predicted 0  Predicted 1\n",
      "Actual 0        16751         4076\n",
      "Actual 1         7725        12358\n"
     ]
    }
   ],
   "source": [
    "from sklearn.metrics import confusion_matrix\n",
    "import statsmodels.api as sm\n",
    "import pandas as pd\n",
    "\n",
    "logit_model = sm.Logit(Y, sm.add_constant(X))\n",
    "logit_result = logit_model.fit()\n",
    "\n",
    "predicted = logit_result.predict()\n",
    "\n",
    "threshold = 0.5\n",
    "predicted_classes = (predicted > threshold).astype(int)\n",
    "\n",
    "conf_matrix = confusion_matrix(Y, predicted_classes)\n",
    "\n",
    "conf_matrix_df = pd.DataFrame(conf_matrix, columns=['Predicted 0', 'Predicted 1'], index=['Actual 0', 'Actual 1'])\n",
    "\n",
    "print(\"Confusion Matrix:\")\n",
    "print(conf_matrix_df)\n"
   ],
   "metadata": {
    "collapsed": false,
    "ExecuteTime": {
     "end_time": "2023-11-07T09:32:44.171131Z",
     "start_time": "2023-11-07T09:32:44.113794Z"
    }
   }
  },
  {
   "cell_type": "code",
   "execution_count": 16,
   "outputs": [
    {
     "name": "stdout",
     "output_type": "stream",
     "text": [
      "Optimization terminated successfully.\n",
      "         Current function value: 0.584781\n",
      "         Iterations 6\n",
      "Confusion Matrix with Percentages:\n",
      "              Predicted 0 (%)  Predicted 1 (%)\n",
      "Actual 0 (%)        40.945979         9.963334\n",
      "Actual 1 (%)        18.882914        30.207773\n"
     ]
    }
   ],
   "source": [
    "from sklearn.metrics import confusion_matrix\n",
    "import statsmodels.api as sm\n",
    "import pandas as pd\n",
    "\n",
    "# Assuming 'X' is your predictor variable and 'Y' is your target variable from the dataset\n",
    "# Replace 'X' and 'Y' with your predictor and target variables\n",
    "\n",
    "# Fit the logistic regression model\n",
    "logit_model = sm.Logit(Y, sm.add_constant(X))\n",
    "logit_result = logit_model.fit()\n",
    "\n",
    "# Get predictions from the logistic regression model\n",
    "predicted = logit_result.predict()\n",
    "\n",
    "# Convert predicted probabilities to binary predictions (0 or 1)\n",
    "threshold = 0.5  # Adjust threshold as needed\n",
    "predicted_classes = (predicted > threshold).astype(int)\n",
    "\n",
    "# Create a confusion matrix\n",
    "conf_matrix = confusion_matrix(Y, predicted_classes)\n",
    "\n",
    "# Calculate percentages for the confusion matrix\n",
    "total = conf_matrix.sum()\n",
    "conf_matrix_percent = conf_matrix / total * 100\n",
    "\n",
    "# Convert confusion matrix to a DataFrame for better visualization (optional)\n",
    "conf_matrix_df = pd.DataFrame(conf_matrix_percent, columns=['Predicted 0 (%)', 'Predicted 1 (%)'], index=['Actual 0 (%)', 'Actual 1 (%)'])\n",
    "\n",
    "print(\"Confusion Matrix with Percentages:\")\n",
    "print(conf_matrix_df)\n"
   ],
   "metadata": {
    "collapsed": false,
    "ExecuteTime": {
     "end_time": "2023-11-07T09:34:08.487040Z",
     "start_time": "2023-11-07T09:34:08.394998Z"
    }
   }
  },
  {
   "cell_type": "code",
   "execution_count": 23,
   "outputs": [],
   "source": [
    "plt.figure(figsize=(8, 6))\n",
    "sns.heatmap(conf_matrix_percent, annot=True, fmt=\".2f\", cmap='Blues', cbar=False)\n",
    "plt.title('Confusion Matrix')\n",
    "plt.xlabel('Predicted Label')\n",
    "plt.ylabel('True Label')\n",
    "plt.show()\n"
   ],
   "metadata": {
    "collapsed": false,
    "ExecuteTime": {
     "end_time": "2023-11-07T09:50:40.898602Z",
     "start_time": "2023-11-07T09:48:19.349474Z"
    }
   }
  },
  {
   "cell_type": "code",
   "execution_count": 27,
   "outputs": [
    {
     "name": "stdout",
     "output_type": "stream",
     "text": [
      "Accuracy: 0.7065509655340992\n"
     ]
    }
   ],
   "source": [
    "from sklearn.linear_model import LogisticRegression\n",
    "from sklearn.model_selection import train_test_split\n",
    "\n",
    "\n",
    "X_train, X_test, y_train, y_test = train_test_split(X, Y, test_size=0.2, random_state=42)\n",
    "\n",
    "logistic_model = LogisticRegression()\n",
    "\n",
    "\n",
    "logistic_model.fit(X_train, y_train)\n",
    "\n",
    "# Predict on the test set\n",
    "predictions = logistic_model.predict(X_test)\n",
    "\n",
    "# Assess performance, e.g., accuracy\n",
    "accuracy = logistic_model.score(X_test, y_test)\n",
    "print(\"Accuracy:\", accuracy)\n"
   ],
   "metadata": {
    "collapsed": false,
    "ExecuteTime": {
     "end_time": "2023-11-07T10:03:17.364459Z",
     "start_time": "2023-11-07T10:03:17.285676Z"
    }
   }
  }
 ],
 "metadata": {
  "kernelspec": {
   "display_name": "base",
   "language": "python",
   "name": "python3"
  },
  "language_info": {
   "codemirror_mode": {
    "name": "ipython",
    "version": 3
   },
   "file_extension": ".py",
   "mimetype": "text/x-python",
   "name": "python",
   "nbconvert_exporter": "python",
   "pygments_lexer": "ipython3",
   "version": "3.11.5"
  }
 },
 "nbformat": 4,
 "nbformat_minor": 2
}
