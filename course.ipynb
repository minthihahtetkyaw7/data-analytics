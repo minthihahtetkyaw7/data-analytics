{
 "cells": [
  {
   "cell_type": "markdown",
   "source": [
    "Importing dependencies"
   ],
   "metadata": {
    "collapsed": false
   }
  },
  {
   "cell_type": "code",
   "execution_count": null,
   "metadata": {},
   "outputs": [],
   "source": [
    "import pandas as pd\n",
    "import matplotlib\n",
    "import matplotlib.pyplot as plt\n",
    "import seaborn as sns\n",
    "from ydata_profiling import ProfileReport\n",
    "from scipy import stats\n",
    "\n",
    "matplotlib.use('TkAgg')\n",
    "\n",
    "data = pd.read_csv('cardio_data_processed.csv')\n"
   ]
  },
  {
   "cell_type": "markdown",
   "source": [
    "Generating Pandas Data profile"
   ],
   "metadata": {
    "collapsed": false
   }
  },
  {
   "cell_type": "code",
   "execution_count": null,
   "metadata": {},
   "outputs": [],
   "source": [
    "profile = ProfileReport(data)\n",
    "profile.to_file('activity.html')\n"
   ]
  },
  {
   "cell_type": "code",
   "execution_count": null,
   "metadata": {},
   "outputs": [],
   "source": [
    "filteredWeight = data.query(\"weight <= 35 & bp_category == 'Normal'\")\n",
    "filteredWeight[ ['id','age','height','weight','bmi','bp_category'] ]\n"
   ]
  },
  {
   "cell_type": "code",
   "execution_count": null,
   "metadata": {},
   "outputs": [],
   "source": [
    "newData = data.query(\"weight >= 36\")\n",
    "print(newData)"
   ]
  },
  {
   "cell_type": "code",
   "execution_count": null,
   "outputs": [],
   "source": [
    "newData['New_BMI'] = newData['weight'] / ((newData['height']/100) ** 2)"
   ],
   "metadata": {
    "collapsed": false
   }
  },
  {
   "cell_type": "code",
   "execution_count": null,
   "metadata": {},
   "outputs": [],
   "source": [
    "sns.histplot(newData['age_years'], bins=10, kde=True)\n",
    "plt.title('Age Distribution')\n",
    "plt.show()"
   ]
  },
  {
   "cell_type": "code",
   "execution_count": null,
   "metadata": {},
   "outputs": [],
   "source": [
    "newData.isnull().sum()\n",
    "newData.dtypes"
   ]
  },
  {
   "cell_type": "code",
   "execution_count": null,
   "metadata": {},
   "outputs": [],
   "source": [
    "duplicates = data[data.duplicated()]\n",
    "print(duplicates)\n",
    "data.nunique()"
   ]
  },
  {
   "cell_type": "markdown",
   "source": [
    "EDA"
   ],
   "metadata": {
    "collapsed": false
   }
  },
  {
   "cell_type": "code",
   "execution_count": null,
   "metadata": {},
   "outputs": [],
   "source": [
    "sns.countplot(x='active', hue='cardio', data=newData)\n",
    "plt.title(\"Cardiovascular Disease vs. Physical Activity\")\n",
    "plt.show()"
   ]
  },
  {
   "cell_type": "code",
   "execution_count": null,
   "metadata": {},
   "outputs": [],
   "source": [
    "sns.boxplot(x='cardio', y='bmi', data=newData)\n",
    "plt.title(\"BMI vs. Cardiovascular Disease\")\n",
    "plt.show()\n"
   ]
  },
  {
   "cell_type": "code",
   "execution_count": null,
   "metadata": {},
   "outputs": [],
   "source": [
    "sns.countplot(data=newData, x='cholesterol')\n",
    "plt.title(\"No of people in each Cholesterol Levels\")\n",
    "plt.xlabel('Cholesterol Levels(1:Normal, 2:Above Normal, 3:Well Above Normal)')\n",
    "plt.show()"
   ]
  },
  {
   "cell_type": "code",
   "execution_count": null,
   "metadata": {},
   "outputs": [],
   "source": [
    "sns.histplot(data['age_years'], bins=28, kde=True)\n",
    "plt.xlabel('Age (years)')\n",
    "plt.title('Distribution of Age')\n",
    "plt.show()\n"
   ]
  },
  {
   "cell_type": "code",
   "execution_count": null,
   "metadata": {},
   "outputs": [],
   "source": [
    "sns.histplot(data['age_years'], bins=28)\n",
    "plt.xlabel('Age (years)')\n",
    "plt.ylabel('Frequency')\n",
    "plt.title('Age Distribution')\n",
    "plt.show()"
   ]
  },
  {
   "cell_type": "code",
   "execution_count": null,
   "metadata": {},
   "outputs": [],
   "source": [
    "gluc_counts = data['gluc'].value_counts()\n",
    "print(gluc_counts)"
   ]
  },
  {
   "cell_type": "code",
   "execution_count": null,
   "metadata": {},
   "outputs": [],
   "source": [
    "bmi_summary = data['bmi'].describe()\n",
    "print(bmi_summary)\n",
    "plt.hist(data['bmi'], bins=30)\n",
    "plt.xlabel('BMI')\n",
    "plt.ylabel('Frequency')\n",
    "plt.title('BMI Distribution')\n",
    "plt.show()"
   ]
  },
  {
   "cell_type": "code",
   "execution_count": null,
   "metadata": {},
   "outputs": [],
   "source": [
    "minimum_bmi = data['bmi'].min()\n",
    "row_with_minimum_bmi = data.loc[data['bmi'] == minimum_bmi]\n",
    "print(row_with_minimum_bmi)\n",
    "print(\"Minimum BMI:\", minimum_bmi)\n"
   ]
  },
  {
   "cell_type": "code",
   "execution_count": null,
   "metadata": {},
   "outputs": [],
   "source": [
    "newData['bmi'].describe()"
   ]
  },
  {
   "cell_type": "code",
   "execution_count": null,
   "metadata": {},
   "outputs": [],
   "source": [
    "newData['New_BMI'].describe()"
   ]
  },
  {
   "cell_type": "code",
   "execution_count": null,
   "metadata": {},
   "outputs": [],
   "source": [
    "ageDescribe = newData['age_years'].describe().round(2)\n",
    "ageMedian = newData['age_years'].median()\n",
    "print(ageDescribe)\n",
    "print(f'Median age is - {ageMedian}')"
   ]
  },
  {
   "cell_type": "code",
   "execution_count": null,
   "metadata": {},
   "outputs": [],
   "source": [
    "profile = ProfileReport(newData)\n",
    "profile.to_file('cardio_disease.html')"
   ]
  },
  {
   "cell_type": "code",
   "execution_count": null,
   "metadata": {},
   "outputs": [],
   "source": [
    "sns.countplot(data=newData, x='age_years', hue='cardio', palette=\"Set2\")\n",
    "plt.xlabel('Age (years)')\n",
    "plt.ylabel('Count')\n",
    "plt.title('Age vs Cardiovascular Disease')\n",
    "plt.legend(title='Cardio', labels=['No', 'Yes'])\n",
    "plt.show()"
   ]
  },
  {
   "cell_type": "code",
   "execution_count": null,
   "metadata": {},
   "outputs": [],
   "source": [
    "sns.histplot(newData['New_BMI'], kde=True ,bins=200, color='green', alpha=0.7)\n",
    "plt.xlabel('BMI')\n",
    "plt.ylabel('Frequency')\n",
    "plt.title('BMI Distribution')\n",
    "\n",
    "plt.show()"
   ]
  },
  {
   "cell_type": "code",
   "execution_count": null,
   "metadata": {},
   "outputs": [],
   "source": [
    "plt.figure(figsize=(8, 6))\n",
    "sns.boxplot(x='cardio', y='New_BMI', data=newData, palette=\"Set1\")\n",
    "plt.xlabel('Cardiovascular Disease (0: No, 1: Yes)')\n",
    "plt.ylabel('BMI')\n",
    "plt.title('BMI vs Cardiovascular Disease (Box Plot)')\n",
    "plt.show()"
   ]
  },
  {
   "cell_type": "code",
   "execution_count": null,
   "metadata": {},
   "outputs": [],
   "source": [
    "plt.figure(figsize=(10, 6))\n",
    "ax = sns.countplot(data=newData, x='bp_category', hue='cardio', palette=\"Set1\")\n",
    "plt.xlabel('Blood Pressure Category')\n",
    "plt.ylabel('Count')\n",
    "plt.title('Blood Pressure Category vs Cardiovascular Disease')\n",
    "plt.legend(title='Cardio', labels=['No', 'Yes'])\n",
    "# Add data labels on each bar\n",
    "for p in ax.patches:\n",
    "    ax.annotate(f'{p.get_height()}', (p.get_x() + p.get_width() / 2., p.get_height()), ha='center', va='center', fontsize=10, color='black', xytext=(0, 5), textcoords='offset points')\n",
    "\n",
    "\n",
    "plt.show()"
   ]
  },
  {
   "cell_type": "code",
   "execution_count": null,
   "outputs": [],
   "source": [
    "corr_matrix = newData[ ['id', 'age', 'gender', 'height', 'weight', 'ap_hi', 'ap_lo',\n",
    "       'cholesterol', 'gluc', 'smoke', 'alco', 'active', 'cardio', 'age_years', 'New_BMI'] ].corr()\n",
    "# high_correlation = corr_matrix[(corr_matrix > 0.4)]\n",
    "# mask = high_correlation.isnull()\n",
    "\n",
    "plt.figure(figsize=(12, 10))\n",
    "sns.heatmap(corr_matrix, annot=True, cmap=\"coolwarm\", fmt=\".2f\", linewidths=.5)\n",
    "plt.title(\"Correlation Heatmap\")\n",
    "plt.show()"
   ],
   "metadata": {
    "collapsed": false
   }
  },
  {
   "cell_type": "markdown",
   "source": [
    "Import Scikit Learn"
   ],
   "metadata": {
    "collapsed": false
   }
  },
  {
   "cell_type": "code",
   "execution_count": null,
   "outputs": [],
   "source": [
    "from sklearn.preprocessing import LabelEncoder\n",
    "le = LabelEncoder()\n",
    "newData['bp_category'] = le.fit_transform(newData['bp_category'])\n",
    "newData[ ['id','bp_category'] ].head()"
   ],
   "metadata": {
    "collapsed": false
   }
  },
  {
   "cell_type": "code",
   "execution_count": null,
   "outputs": [],
   "source": [
    "sampled_data = newData.sample(frac=0.6, random_state=1)\n",
    "sampled_data.describe()"
   ],
   "metadata": {
    "collapsed": false
   }
  },
  {
   "cell_type": "code",
   "execution_count": null,
   "outputs": [],
   "source": [
    "sns.histplot(sampled_data['cholesterol'], kde=True ,bins=40, color='green', alpha=0.7)\n",
    "plt.xlabel('BMI')\n",
    "plt.ylabel('Frequency')\n",
    "plt.title('BMI Distribution')\n",
    "\n",
    "plt.show()"
   ],
   "metadata": {
    "collapsed": false
   }
  },
  {
   "cell_type": "code",
   "execution_count": null,
   "outputs": [],
   "source": [
    "presenceCardio = sampled_data[ sampled_data['cardio'] == 1]\n",
    "sns.scatterplot(x='ap_lo', y='ap_hi', data=presenceCardio, hue='cardio')\n",
    "\n",
    "# Adjust labels, titles, etc.\n",
    "plt.title('Scatter plot of Cardio vs AP LO and AP HI')\n",
    "plt.xlabel('AP LO')\n",
    "plt.ylabel('AP HI')\n",
    "plt.legend(title='Cardio')\n",
    "\n",
    "# Show the plot\n",
    "plt.show()"
   ],
   "metadata": {
    "collapsed": false
   }
  },
  {
   "cell_type": "code",
   "execution_count": null,
   "outputs": [],
   "source": [
    "from sklearn.linear_model import LinearRegression\n",
    "\n",
    "# Assuming 'df' is your DataFrame containing the dataset\n",
    "# X contains the predictors, Y is the target variable\n",
    "X = sampled_data[['ap_hi', 'ap_lo']]  # Example: Selecting 'ap_hi' and 'ap_lo' as predictors for samples where 'cardio' is 1\n",
    "Y = sampled_data['cardio']  # Target variable\n",
    "\n",
    "\n",
    "# Initialize the linear regression model\n",
    "lin_reg = LinearRegression()\n",
    "\n",
    "# Fit the linear regression model\n",
    "lin_reg.fit(X, Y)\n",
    "\n",
    "print(lin_reg)\n",
    "# Get coefficients and intercept\n",
    "coefficients = lin_reg.coef_\n",
    "intercept = lin_reg.intercept_\n",
    "\n",
    "# Display results\n",
    "print(\"Coefficients:\")\n",
    "print(coefficients)\n",
    "print(\"\\nIntercept:\")\n",
    "print(intercept)\n"
   ],
   "metadata": {
    "collapsed": false
   }
  },
  {
   "cell_type": "code",
   "execution_count": null,
   "outputs": [],
   "source": [
    "# Predict the target variable using the model\n",
    "Y_pred = lin_reg.predict(X)\n",
    "\n",
    "# Create a scatter plot of the actual data\n",
    "plt.scatter(X['ap_hi'], Y, color='blue', label='ap_hi')\n",
    "plt.scatter(X['ap_lo'], Y, color='red', label='ap_lo')\n",
    "\n",
    "# Plot the linear regression line\n",
    "plt.plot(X['ap_hi'], Y_pred, color='green', linewidth=2, label='Linear Regression (ap_hi)')\n",
    "plt.plot(X['ap_lo'], Y_pred, color='orange', linewidth=2, label='Linear Regression (ap_lo)')\n",
    "\n",
    "# Set plot labels and title\n",
    "plt.xlabel('ap_hi and ap_lo')\n",
    "plt.ylabel('cardio')\n",
    "plt.title('Linear Regression Plot')\n",
    "plt.legend()\n",
    "plt.grid(True)\n",
    "plt.show()"
   ],
   "metadata": {
    "collapsed": false
   }
  },
  {
   "cell_type": "code",
   "execution_count": null,
   "outputs": [],
   "source": [
    "ap_hi_with_cardio = data[data['cardio'] == 1]['age_years']\n",
    "ap_hi_without_cardio = data[data['cardio'] == 0]['age_years']\n",
    "\n",
    "t_stat, p_value = stats.ttest_ind(ap_hi_with_cardio, ap_hi_without_cardio, equal_var=False)\n",
    "\n",
    "print(\"Independent t-test p-value:\", p_value)\n",
    "\n",
    "if p_value < 0.05:\n",
    "    print(\"Reject Null Hypothesis: There is a significant difference in mean 'ap_hi' between individuals with and without cardiovascular disease.\")\n",
    "else:\n",
    "    print(\"Fail to Reject Null Hypothesis: There is no significant difference in mean 'ap_hi' between the groups.\")"
   ],
   "metadata": {
    "collapsed": false
   }
  },
  {
   "cell_type": "code",
   "execution_count": null,
   "outputs": [],
   "source": [
    "ap_hi_cardio_1 = sampled_data[sampled_data['cardio'] == 1]['ap_hi']\n",
    "\n",
    "# Create a histogram to visualize the distribution of 'ap_hi' for Cardio=1\n",
    "plt.figure(figsize=(8, 6))\n",
    "plt.hist(ap_hi_cardio_1, bins=10, color='skyblue', edgecolor='black')\n",
    "plt.xlabel('Systolic Blood Pressure (ap_hi) - Cardio Presence')\n",
    "plt.ylabel('Frequency')\n",
    "plt.title('Distribution of Systolic Blood Pressure (ap_hi) for Cardio Presence')\n",
    "plt.show()"
   ],
   "metadata": {
    "collapsed": false
   }
  },
  {
   "cell_type": "code",
   "execution_count": null,
   "outputs": [],
   "source": [
    "import statsmodels.api as sm\n",
    "X = sampled_data[['ap_hi','ap_lo']]\n",
    "Y = sampled_data['cardio']\n",
    "\n",
    "X = sm.add_constant(X)\n",
    "\n",
    "logit_model = sm.Logit(Y, X)\n",
    "logit_result = logit_model.fit()\n",
    "\n",
    "print(logit_result.summary())"
   ],
   "metadata": {
    "collapsed": false
   }
  },
  {
   "cell_type": "code",
   "execution_count": null,
   "outputs": [],
   "source": [
    "from scipy.stats import ttest_ind\n",
    "# Example: 'binary_var' is your binary variable and 'numerical_var' is your numerical variable\n",
    "group1 = sampled_data[sampled_data['cardio'] == 0]['ap_hi']\n",
    "group2 = sampled_data[sampled_data['cardio'] == 1]['ap_hi']\n",
    "\n",
    "ttest_ind(group1, group2, equal_var=False)  # Assuming unequal variance\n",
    "# print(f\"T-Statistic: {t_stat}\")\n",
    "# print(f\"P-value: {p}\")"
   ],
   "metadata": {
    "collapsed": false
   }
  },
  {
   "cell_type": "code",
   "execution_count": null,
   "outputs": [],
   "source": [
    "from sklearn.metrics import confusion_matrix\n",
    "import statsmodels.api as sm\n",
    "import pandas as pd\n",
    "\n",
    "logit_model = sm.Logit(Y, sm.add_constant(X))\n",
    "logit_result = logit_model.fit()\n",
    "\n",
    "predicted = logit_result.predict()\n",
    "\n",
    "threshold = 0.5\n",
    "predicted_classes = (predicted > threshold).astype(int)\n",
    "\n",
    "conf_matrix = confusion_matrix(Y, predicted_classes)\n",
    "\n",
    "conf_matrix_df = pd.DataFrame(conf_matrix, columns=['Predicted 0', 'Predicted 1'], index=['Actual 0', 'Actual 1'])\n",
    "\n",
    "print(\"Confusion Matrix:\")\n",
    "print(conf_matrix_df)\n"
   ],
   "metadata": {
    "collapsed": false
   }
  },
  {
   "cell_type": "code",
   "execution_count": null,
   "outputs": [],
   "source": [
    "from sklearn.metrics import confusion_matrix\n",
    "import statsmodels.api as sm\n",
    "import pandas as pd\n",
    "\n",
    "# Assuming 'X' is your predictor variable and 'Y' is your target variable from the dataset\n",
    "# Replace 'X' and 'Y' with your predictor and target variables\n",
    "\n",
    "# Fit the logistic regression model\n",
    "logit_model = sm.Logit(Y, sm.add_constant(X))\n",
    "logit_result = logit_model.fit()\n",
    "\n",
    "# Get predictions from the logistic regression model\n",
    "predicted = logit_result.predict()\n",
    "\n",
    "# Convert predicted probabilities to binary predictions (0 or 1)\n",
    "threshold = 0.5  # Adjust threshold as needed\n",
    "predicted_classes = (predicted > threshold).astype(int)\n",
    "\n",
    "# Create a confusion matrix\n",
    "conf_matrix = confusion_matrix(Y, predicted_classes)\n",
    "\n",
    "# Calculate percentages for the confusion matrix\n",
    "total = conf_matrix.sum()\n",
    "conf_matrix_percent = conf_matrix / total * 100\n",
    "\n",
    "# Convert confusion matrix to a DataFrame for better visualization (optional)\n",
    "conf_matrix_df = pd.DataFrame(conf_matrix_percent, columns=['Predicted 0 (%)', 'Predicted 1 (%)'], index=['Actual 0 (%)', 'Actual 1 (%)'])\n",
    "\n",
    "print(\"Confusion Matrix with Percentages:\")\n",
    "print(conf_matrix_df)\n"
   ],
   "metadata": {
    "collapsed": false
   }
  },
  {
   "cell_type": "code",
   "execution_count": null,
   "outputs": [],
   "source": [
    "plt.figure(figsize=(8, 6))\n",
    "sns.heatmap(conf_matrix_percent, annot=True, fmt=\".2f\", cmap='Blues', cbar=False)\n",
    "plt.title('Confusion Matrix')\n",
    "plt.xlabel('Predicted Label')\n",
    "plt.ylabel('True Label')\n",
    "plt.show()\n"
   ],
   "metadata": {
    "collapsed": false
   }
  },
  {
   "cell_type": "code",
   "execution_count": null,
   "outputs": [],
   "source": [
    "from sklearn.linear_model import LogisticRegression\n",
    "from sklearn.model_selection import train_test_split\n",
    "\n",
    "\n",
    "X_train, X_test, y_train, y_test = train_test_split(X, Y, test_size=0.2, random_state=42)\n",
    "\n",
    "logistic_model = LogisticRegression()\n",
    "\n",
    "\n",
    "logistic_model.fit(X_train, y_train)\n",
    "\n",
    "# Predict on the test set\n",
    "predictions = logistic_model.predict(X_test)\n",
    "\n",
    "# Assess performance, e.g., accuracy\n",
    "accuracy = logistic_model.score(X_test, y_test)\n",
    "print(\"Accuracy:\", accuracy)\n"
   ],
   "metadata": {
    "collapsed": false
   }
  },
  {
   "cell_type": "markdown",
   "source": [
    "TESTING\n",
    "\n"
   ],
   "metadata": {
    "collapsed": false
   }
  },
  {
   "cell_type": "code",
   "execution_count": null,
   "outputs": [],
   "source": [
    "# Import necessary libraries\n",
    "from sklearn.model_selection import train_test_split\n",
    "from sklearn.tree import DecisionTreeClassifier\n",
    "from sklearn.metrics import accuracy_score, classification_report\n",
    "from sklearn import tree\n",
    "import matplotlib.pyplot as plt\n",
    "\n",
    "# Assuming you have a DataFrame named 'df' with your dataset\n",
    "\n",
    "# Select features (X) and target variable (y)\n",
    "features = ['age_years', 'gender', 'height', 'weight', 'ap_hi', 'ap_lo', 'cholesterol', 'gluc', 'smoke', 'alco', 'active', 'New_BMI']\n",
    "X = sampled_data[features]\n",
    "y = sampled_data['cardio']\n",
    "\n",
    "# Split the dataset into training and testing sets\n",
    "X_train, X_test, y_train, y_test = train_test_split(X, y, test_size=0.2, random_state=42)\n",
    "\n",
    "# Create a decision tree classifier\n",
    "clf = DecisionTreeClassifier(random_state=42)\n",
    "\n",
    "# Train the classifier on the training set\n",
    "clf.fit(X_train, y_train)\n",
    "\n",
    "# Make predictions on the test set\n",
    "y_pred = clf.predict(X_test)\n",
    "\n",
    "# Evaluate the model\n",
    "accuracy = accuracy_score(y_test, y_pred)\n",
    "print(f'Accuracy: {accuracy:.2f}')\n",
    "\n",
    "# Print classification report for more detailed evaluation\n",
    "print(classification_report(y_test, y_pred))\n",
    "\n",
    "# Plot the decision tree (interpretation)\n",
    "plt.figure(figsize=(12, 8))\n",
    "tree.plot_tree(clf, feature_names=features, class_names=['Absence', 'Presence'], filled=True, rounded=True)\n",
    "plt.show()\n"
   ],
   "metadata": {
    "collapsed": false
   }
  },
  {
   "cell_type": "markdown",
   "source": [
    "KNN"
   ],
   "metadata": {
    "collapsed": false
   }
  },
  {
   "cell_type": "code",
   "execution_count": null,
   "outputs": [],
   "source": [
    "# Import necessary libraries\n",
    "from sklearn.model_selection import train_test_split\n",
    "from sklearn.neighbors import KNeighborsClassifier\n",
    "from sklearn.metrics import accuracy_score, classification_report\n",
    "from sklearn.preprocessing import StandardScaler\n",
    "\n",
    "# Assuming you have a DataFrame named 'df' with your dataset\n",
    "\n",
    "# Select features (X) and target variable (y)\n",
    "features = ['age_years', 'gender', 'height', 'weight', 'ap_hi', 'ap_lo', 'cholesterol', 'gluc', 'smoke', 'alco', 'active', 'New_BMI']\n",
    "X = sampled_data[features]\n",
    "y = sampled_data['cardio']\n",
    "\n",
    "# Split the dataset into training and testing sets\n",
    "X_train, X_test, y_train, y_test = train_test_split(X, y, test_size=0.2, random_state=42)\n",
    "\n",
    "# Standardize the features (important for KNN)\n",
    "scaler = StandardScaler()\n",
    "X_train_scaled = scaler.fit_transform(X_train)\n",
    "X_test_scaled = scaler.transform(X_test)\n",
    "\n",
    "# Create a KNN classifier\n",
    "knn = KNeighborsClassifier(n_neighbors=100)  # You can adjust the number of neighbors (k) as needed\n",
    "\n",
    "# Train the classifier on the training set\n",
    "knn.fit(X_train_scaled, y_train)\n",
    "\n",
    "# Make predictions on the test set\n",
    "y_pred = knn.predict(X_test_scaled)\n",
    "\n",
    "# Evaluate the model\n",
    "accuracy = accuracy_score(y_test, y_pred)\n",
    "print(f'Accuracy: {accuracy:.2f}')\n",
    "\n",
    "# Print classification report for more detailed evaluation\n",
    "print(classification_report(y_test, y_pred))\n"
   ],
   "metadata": {
    "collapsed": false
   }
  },
  {
   "cell_type": "markdown",
   "source": [
    "Tensor Flow Neural Network"
   ],
   "metadata": {
    "collapsed": false
   }
  },
  {
   "cell_type": "code",
   "execution_count": null,
   "outputs": [],
   "source": [
    "# Import necessary libraries\n",
    "from sklearn.model_selection import train_test_split\n",
    "from sklearn.preprocessing import StandardScaler\n",
    "from sklearn.metrics import accuracy_score, classification_report\n",
    "import tensorflow as tf\n",
    "from tensorflow import keras\n",
    "from tensorflow.keras import layers\n",
    "\n",
    "# Assuming you have a DataFrame named 'df' with your dataset\n",
    "\n",
    "# Select features (X) and target variable (y)\n",
    "features = ['age_years', 'gender', 'height', 'weight', 'ap_hi', 'ap_lo', 'cholesterol', 'gluc', 'smoke', 'alco', 'active', 'bmi']\n",
    "X = sampled_data[features]\n",
    "y = sampled_data['cardio']\n",
    "\n",
    "# Split the dataset into training and testing sets\n",
    "X_train, X_test, y_train, y_test = train_test_split(X, y, test_size=0.2, random_state=42)\n",
    "\n",
    "# Standardize the features\n",
    "scaler = StandardScaler()\n",
    "X_train_scaled = scaler.fit_transform(X_train)\n",
    "X_test_scaled = scaler.transform(X_test)\n",
    "\n",
    "# Build a neural network model\n",
    "model = keras.Sequential([\n",
    "    layers.Dense(64, activation='relu', input_shape=(X_train_scaled.shape[1],)),\n",
    "    layers.Dense(32, activation='relu'),\n",
    "    layers.Dense(1, activation='sigmoid')  # Binary classification, so 'sigmoid' activation for the output layer\n",
    "])\n",
    "\n",
    "# Compile the model\n",
    "model.compile(optimizer='adam',  # You can experiment with different optimizers (e.g., 'adam', 'sgd')\n",
    "              loss='binary_crossentropy',  # Binary classification loss function\n",
    "              metrics=['accuracy'])\n",
    "\n",
    "# Train the model\n",
    "model.fit(X_train_scaled, y_train, epochs=11, batch_size=32, validation_split=0.2)\n",
    "\n",
    "# Evaluate the model on the test set\n",
    "y_pred = model.predict(X_test_scaled)\n",
    "y_pred_binary = (y_pred > 0.5).astype(int)\n",
    "\n",
    "# Convert the predicted probabilities to binary predictions\n",
    "accuracy = accuracy_score(y_test, y_pred_binary)\n",
    "print(f'Accuracy: {accuracy:.2f}')\n",
    "\n",
    "# Print classification report for more detailed evaluation\n",
    "print(classification_report(y_test, y_pred_binary))\n"
   ],
   "metadata": {
    "collapsed": false
   }
  },
  {
   "cell_type": "markdown",
   "source": [
    "Random Forest"
   ],
   "metadata": {
    "collapsed": false
   }
  },
  {
   "cell_type": "code",
   "execution_count": 8,
   "outputs": [
    {
     "name": "stdout",
     "output_type": "stream",
     "text": [
      "Accuracy: 0.70\n",
      "              precision    recall  f1-score   support\n",
      "\n",
      "           0       0.71      0.70      0.71      4212\n",
      "           1       0.69      0.69      0.69      3970\n",
      "\n",
      "    accuracy                           0.70      8182\n",
      "   macro avg       0.70      0.70      0.70      8182\n",
      "weighted avg       0.70      0.70      0.70      8182\n",
      "\n",
      "Confusion Matrix:\n",
      "[[2967 1245]\n",
      " [1230 2740]]\n"
     ]
    }
   ],
   "source": [
    "#Random Forest Classifier\n",
    "from sklearn.model_selection import train_test_split\n",
    "from sklearn.ensemble import RandomForestClassifier\n",
    "from sklearn.metrics import accuracy_score, classification_report, confusion_matrix\n",
    "\n",
    "features = ['age_years', 'gender', 'height', 'weight', 'ap_hi', 'ap_lo', 'cholesterol', 'gluc', 'smoke', 'alco', 'active', 'New_BMI']\n",
    "X = sampled_data[features]\n",
    "y = sampled_data['cardio']\n",
    "\n",
    "X_train, X_test, y_train, y_test = train_test_split(X, y, test_size=0.2, random_state=42)\n",
    "\n",
    "rf_classifier = RandomForestClassifier(n_estimators=100, random_state=42)  \n",
    "\n",
    "rf_classifier.fit(X_train, y_train)\n",
    "\n",
    "predictions = rf_classifier.predict(X_test)\n",
    "\n",
    "# Calculate accuracy\n",
    "accuracy = accuracy_score(y_test, predictions)\n",
    "print(f'Accuracy: {accuracy:.2f}')\n",
    "\n",
    "# Generate a classification report\n",
    "print(classification_report(y_test, predictions))\n",
    "\n",
    "# Confusion matrix\n",
    "conf_matrix = confusion_matrix(y_test, predictions)\n",
    "print(f'Confusion Matrix:\\n{conf_matrix}')\n",
    "\n",
    "\n"
   ],
   "metadata": {
    "collapsed": false,
    "ExecuteTime": {
     "end_time": "2023-11-18T09:35:45.684411Z",
     "start_time": "2023-11-18T09:35:43.091586Z"
    }
   }
  },
  {
   "cell_type": "code",
   "execution_count": null,
   "outputs": [],
   "source": [
    "plt.figure(figsize=(8, 6))\n",
    "sns.heatmap(conf_matrix, annot=True, fmt=\".2f\", cmap='Blues', cbar=False)\n",
    "plt.title('Confusion Matrix')\n",
    "plt.xlabel('Predicted Label')\n",
    "plt.ylabel('True Label')\n",
    "plt.show()"
   ],
   "metadata": {
    "collapsed": false
   }
  }
 ],
 "metadata": {
  "kernelspec": {
   "display_name": "base",
   "language": "python",
   "name": "python3"
  },
  "language_info": {
   "codemirror_mode": {
    "name": "ipython",
    "version": 3
   },
   "file_extension": ".py",
   "mimetype": "text/x-python",
   "name": "python",
   "nbconvert_exporter": "python",
   "pygments_lexer": "ipython3",
   "version": "3.11.5"
  }
 },
 "nbformat": 4,
 "nbformat_minor": 2
}
